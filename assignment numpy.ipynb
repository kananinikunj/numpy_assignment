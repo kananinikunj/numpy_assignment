{
 "cells": [
  {
   "cell_type": "markdown",
   "id": "0f09993c",
   "metadata": {},
   "source": [
    "# Question on Numpy Array"
   ]
  },
  {
   "cell_type": "markdown",
   "id": "fc2f0e72",
   "metadata": {},
   "source": [
    "write answer of each question and also give explanation with example."
   ]
  },
  {
   "cell_type": "code",
   "execution_count": 62,
   "id": "ed2c778f",
   "metadata": {},
   "outputs": [
    {
     "name": "stdout",
     "output_type": "stream",
     "text": [
      "Empty NumPy array:\n",
      "[[0.2 0.4 0.6]\n",
      " [0.8 1.  1.2]\n",
      " [1.4 1.6 1.8]]\n",
      "Full NumPy array:\n",
      "[[5 5]\n",
      " [5 5]]\n"
     ]
    }
   ],
   "source": [
    "# 1 how to create an empty and a full numpy array.\n",
    "#Ans :An empty NumPy array can be created using the numpy.empty() function.\n",
    "#        A full NumPy array can be created using the numpy.full() function.\n",
    "\n",
    "# example of empty \n",
    "\n",
    "import numpy as np\n",
    "empty_array = np.empty((3, 3))\n",
    "print(\"Empty NumPy array:\")\n",
    "print(empty_array)\n",
    "\n",
    "full_array = np.full((2, 2), 5)\n",
    "\n",
    "print(\"Full NumPy array:\")\n",
    "print(full_array)"
   ]
  },
  {
   "cell_type": "code",
   "execution_count": 35,
   "id": "efe58e87",
   "metadata": {},
   "outputs": [
    {
     "data": {
      "text/plain": [
       "array([[0., 0., 0.],\n",
       "       [0., 0., 0.]])"
      ]
     },
     "execution_count": 35,
     "metadata": {},
     "output_type": "execute_result"
    }
   ],
   "source": [
    "# 2 create a numpy array filled with all zeros.\n",
    "# ans : To create a NumPy array filled with all zeros, you can use the numpy.zeros() function.\n",
    "\n",
    "import numpy as np\n",
    "\n",
    "zero_array = np.zeros([2,3])\n",
    "\n",
    "zero_array"
   ]
  },
  {
   "cell_type": "code",
   "execution_count": 13,
   "id": "c15f5d09",
   "metadata": {},
   "outputs": [
    {
     "data": {
      "text/plain": [
       "array([[1., 1., 1.],\n",
       "       [1., 1., 1.],\n",
       "       [1., 1., 1.],\n",
       "       [1., 1., 1.]])"
      ]
     },
     "execution_count": 13,
     "metadata": {},
     "output_type": "execute_result"
    }
   ],
   "source": [
    "# 3 create a numpy array filled with all ones\n",
    "# ans : To create a NumPy array filled with all ones, you can use the numpy.ones() function.\n",
    "\n",
    "import numpy as np\n",
    "ones_array = np.ones([4,3])\n",
    "ones_array"
   ]
  },
  {
   "cell_type": "code",
   "execution_count": 63,
   "id": "9f890533",
   "metadata": {},
   "outputs": [
    {
     "name": "stdout",
     "output_type": "stream",
     "text": [
      "True\n",
      "False\n",
      "False\n",
      "True\n"
     ]
    }
   ],
   "source": [
    "# 4 check whether a numpy array contains a specified row. \n",
    "# This can be done by using simple approach as checking for each row with the given list but this can be easily understood and \n",
    "# implemented by using inbuilt library functions numpy.array.tolist().If the given list is present in a array as a row then \n",
    "# the output is True else False.\n",
    "\n",
    "arr = np.array([[6,7,8,9,10], \n",
    "                [16, 17, 20, 19, 180], \n",
    "                [1, 2, 3, 4, 5], \n",
    "                [11, 12, 13, 14, 15]]) \n",
    " \n",
    "print([1, 2, 3, 4, 5] in arr.tolist())\n",
    "print([16, 17, 20, 19, 18] in arr.tolist()) \n",
    "print([3, 2, 5, -4, 5] in arr.tolist()) \n",
    "print([11, 12, 13, 14, 15] in arr.tolist()) "
   ]
  },
  {
   "cell_type": "code",
   "execution_count": 105,
   "id": "63f7231f",
   "metadata": {},
   "outputs": [
    {
     "data": {
      "text/plain": [
       "array([[4., 7., 6.]])"
      ]
     },
     "execution_count": 105,
     "metadata": {},
     "output_type": "execute_result"
    }
   ],
   "source": [
    "# 5 how to remove rows in numpy array that contains non-numeric values.\n",
    "# ans : you can use boolean indexing along with the numpy.isnan() function\n",
    "\n",
    "import numpy as np\n",
    "\n",
    "\n",
    "arr = np.array([[1, np.nan, 3],\n",
    "                [4, 7, 6],\n",
    "                [np.nan, 8, 9]])\n",
    "\n",
    "\n",
    "arr_numeric = arr[~np.isnan(arr).any(axis=1)]\n",
    "\n",
    "arr_numeric"
   ]
  },
  {
   "cell_type": "code",
   "execution_count": 50,
   "id": "a0c40df0",
   "metadata": {},
   "outputs": [
    {
     "name": "stdout",
     "output_type": "stream",
     "text": [
      "Input array :  [[[2 2 2]\n",
      "  [2 2 2]]]\n",
      "Shape of input array :  (1, 2, 3)\n",
      "output squeezed array :  [[2 2 2]\n",
      " [2 2 2]]\n",
      "Shape of output array :  (2, 3)\n"
     ]
    }
   ],
   "source": [
    "# 6 remove single-dimensional entries form the shape of an array\n",
    "# ans : numpy.squeeze() function is used when we want to remove single-dimensional entries from the shape of an array.\n",
    "input_arr = np.array([[[2, 2, 2], [2, 2, 2]]]) \n",
    "   \n",
    "print (\"Input array : \", input_arr)  \n",
    "print(\"Shape of input array : \", input_arr.shape)   \n",
    "  \n",
    "output_arr = np.squeeze(input_arr)  \n",
    "  \n",
    "print (\"output squeezed array : \", output_arr) \n",
    "print(\"Shape of output array : \", output_arr.shape)"
   ]
  },
  {
   "cell_type": "code",
   "execution_count": 49,
   "id": "bd13449f",
   "metadata": {},
   "outputs": [
    {
     "name": "stdout",
     "output_type": "stream",
     "text": [
      "4\n"
     ]
    }
   ],
   "source": [
    "# 7 find the number of occurrences of a sequence in numpy array\n",
    "# ans : To find the number of occurrences of a sequence in a NumPy array, you can use the numpy.where() function\n",
    "import numpy as np\n",
    "\n",
    "arr = np.array([[2, 8, 9, 4],  \n",
    "                   [9, 4, 9, 4], \n",
    "                   [4, 5, 9, 7], \n",
    "                   [2, 9, 4, 3]]) \n",
    "output = repr(arr).count(\"9, 4\") \n",
    "print(output) "
   ]
  },
  {
   "cell_type": "code",
   "execution_count": 53,
   "id": "9c20b4b0",
   "metadata": {},
   "outputs": [
    {
     "name": "stdout",
     "output_type": "stream",
     "text": [
      "Most frequent value in the above array: 22\n"
     ]
    }
   ],
   "source": [
    "# 8 find the most frequent value in a numpy array\n",
    "# ans : To find the most frequent value in a NumPy array, you can use the numpy.unique() function to get the unique elements and their counts, and then use numpy.argmax() to find the index of the maximum count.\n",
    "\n",
    "import numpy as np\n",
    "\n",
    "a = np.array([22,22,33,44,5,11,22,22,11,11]) \n",
    "  \n",
    "print(\"Most frequent value in the above array:\",np.bincount(a).argmax()) "
   ]
  },
  {
   "cell_type": "code",
   "execution_count": 55,
   "id": "7a793d33",
   "metadata": {},
   "outputs": [
    {
     "name": "stdout",
     "output_type": "stream",
     "text": [
      "0:0\n",
      "1:1\n",
      "2:2\n",
      "3:3\n",
      "4:4\n",
      "0:5\n",
      "1:6\n",
      "2:7\n",
      "3:8\n",
      "4:9\n"
     ]
    }
   ],
   "source": [
    "# 9 combining a one and a two -dimensional numpy array\n",
    "# ans : NumPy array, you can use NumPy's stacking functions like np.vstack() \n",
    "\n",
    "import numpy as np\n",
    "\n",
    "num_1d = np.arange(5) \n",
    "  \n",
    "num_2d = np.arange(10).reshape(2,5) \n",
    "\n",
    "for a, b in np.nditer([num_1d, num_2d]): \n",
    "    print(\"%d:%d\" % (a, b),)"
   ]
  },
  {
   "cell_type": "code",
   "execution_count": 58,
   "id": "60f831b4",
   "metadata": {},
   "outputs": [
    {
     "data": {
      "text/plain": [
       "array([[1, 4],\n",
       "       [1, 5],\n",
       "       [2, 4],\n",
       "       [2, 5],\n",
       "       [3, 4],\n",
       "       [3, 5]])"
      ]
     },
     "execution_count": 58,
     "metadata": {},
     "output_type": "execute_result"
    }
   ],
   "source": [
    "# Q.10 How to build an array of all combinations of two NumPy arrays?\n",
    "# Numpy has a function to compute the combination of 2 or more Numpy arrays named as “numpy.meshgrid()“. This function is used \n",
    "# to create a rectangular grid out of two given one-dimensional arrays representing the Cartesian indexing or Matrix indexing.\n",
    "\n",
    "import numpy as np\n",
    "\n",
    "array1 = np.array([1, 2, 3])\n",
    "array2 = np.array([4, 5])\n",
    "\n",
    "comb_array = np.array(np.meshgrid(array1, array2)).T.reshape(-1, 2) \n",
    "  \n",
    "comb_array"
   ]
  },
  {
   "cell_type": "markdown",
   "id": "fb9443fe",
   "metadata": {},
   "source": [
    "# function 1 zero()"
   ]
  },
  {
   "cell_type": "code",
   "execution_count": 64,
   "id": "b84dc90c",
   "metadata": {},
   "outputs": [
    {
     "name": "stdout",
     "output_type": "stream",
     "text": [
      "[[0. 0.]\n",
      " [0. 0.]\n",
      " [0. 0.]]\n"
     ]
    }
   ],
   "source": [
    "# Example 1 \n",
    "# Explanation: This will create a 2D array with 3 rows and 2 columns filled with zeros, stored in Fortran (column-major) order instead of the default C (row-major) order.\n",
    "\n",
    "import numpy as np\n",
    "arr = np.zeros((3, 2), order='F')\n",
    "print(arr)"
   ]
  },
  {
   "cell_type": "code",
   "execution_count": 66,
   "id": "5d3f415f",
   "metadata": {},
   "outputs": [
    {
     "name": "stdout",
     "output_type": "stream",
     "text": [
      "[0 0 0 0 0]\n"
     ]
    }
   ],
   "source": [
    "# Example 2 \n",
    "#Explanation: This will create a 1D array filled with integer zeros instead of the default floating-point zeros.\n",
    "\n",
    "arr = np.zeros(5, dtype=int)\n",
    "print(arr)"
   ]
  },
  {
   "cell_type": "code",
   "execution_count": 67,
   "id": "3aa28cd5",
   "metadata": {},
   "outputs": [
    {
     "name": "stdout",
     "output_type": "stream",
     "text": [
      "[[[0. 0. 0. 0.]\n",
      "  [0. 0. 0. 0.]\n",
      "  [0. 0. 0. 0.]]\n",
      "\n",
      " [[0. 0. 0. 0.]\n",
      "  [0. 0. 0. 0.]\n",
      "  [0. 0. 0. 0.]]]\n"
     ]
    }
   ],
   "source": [
    "# Example 3 \n",
    "# Explanation: This will create a 3D array with dimensions 2x3x4, all filled with zeros. It has 2 matrices, each with 3 rows and 4 columns, resulting in a shape of (2, 3, 4).\n",
    "\n",
    "\n",
    "arr = np.zeros((2, 3, 4))\n",
    "print(arr)\n"
   ]
  },
  {
   "cell_type": "markdown",
   "id": "ad21aa60",
   "metadata": {},
   "source": [
    "# function 2 arange()"
   ]
  },
  {
   "cell_type": "code",
   "execution_count": 20,
   "id": "c8a48522",
   "metadata": {},
   "outputs": [
    {
     "data": {
      "text/plain": [
       "array([0, 1, 2, 3, 4])"
      ]
     },
     "execution_count": 20,
     "metadata": {},
     "output_type": "execute_result"
    }
   ],
   "source": [
    "# Example 1 \n",
    "# Explanation : This will create an array [0, 1, 2, 3, 4]. The arange() function generates values starting from 0 up to (but not including) the specified stop value, with a default step of 1.\n",
    "import numpy as np \n",
    "\n",
    "arr=np.arange(5)\n",
    "arr"
   ]
  },
  {
   "cell_type": "code",
   "execution_count": 21,
   "id": "96e3841b",
   "metadata": {},
   "outputs": [
    {
     "data": {
      "text/plain": [
       "array([1, 3, 5, 7, 9])"
      ]
     },
     "execution_count": 21,
     "metadata": {},
     "output_type": "execute_result"
    }
   ],
   "source": [
    "# Example 2 \n",
    "# This will create an array [1, 3, 5, 7, 9]. The arange() function allows specifying the start, stop, and step values. In this example, it generates values starting from 1 up to (but not including) 10, with a step of 2.\n",
    "\n",
    "arr=np.arange(1,10,2)\n",
    "arr"
   ]
  },
  {
   "cell_type": "code",
   "execution_count": 68,
   "id": "2ed7addd",
   "metadata": {},
   "outputs": [
    {
     "data": {
      "text/plain": [
       "array([0.  , 0.25, 0.5 , 0.75])"
      ]
     },
     "execution_count": 68,
     "metadata": {},
     "output_type": "execute_result"
    }
   ],
   "source": [
    "# Example 3 \n",
    "# Explanation This will produce an array [0. 0.25 0.5 0.75 1. ], ensuring precise control over the number of elements and avoiding potential floating-point arithmetic errors.\n",
    "\n",
    "arr = np.arange(0,1,0.25)\n",
    "arr"
   ]
  },
  {
   "cell_type": "markdown",
   "id": "d837cff9",
   "metadata": {},
   "source": [
    " # function 3 reshape()"
   ]
  },
  {
   "cell_type": "code",
   "execution_count": 28,
   "id": "be6b5314",
   "metadata": {},
   "outputs": [
    {
     "data": {
      "text/plain": [
       "array([[1, 2, 3],\n",
       "       [4, 5, 6]])"
      ]
     },
     "execution_count": 28,
     "metadata": {},
     "output_type": "execute_result"
    }
   ],
   "source": [
    "# Example 1 \n",
    "# Explanation : This will reshape the 1D array [1, 2, 3, 4, 5, 6] into a 2D array with 2 rows, with the number of columns automatically calculated to be 3.\n",
    "\n",
    "import numpy as np\n",
    "\n",
    "arr = np.array([1, 2, 3, 4, 5, 6])\n",
    "\n",
    "reshaped_arr = np.reshape(arr, (2, -1))\n",
    "reshaped_arr"
   ]
  },
  {
   "cell_type": "code",
   "execution_count": 29,
   "id": "46260d46",
   "metadata": {},
   "outputs": [
    {
     "data": {
      "text/plain": [
       "array([[1, 2],\n",
       "       [3, 4],\n",
       "       [5, 6],\n",
       "       [7, 8]])"
      ]
     },
     "execution_count": 29,
     "metadata": {},
     "output_type": "execute_result"
    }
   ],
   "source": [
    "# Exampele 2\n",
    "# Explanation: This will reshape the 1D array [1, 2, 3, 4, 5, 6, 7, 8] into a 2D array with 4 rows. The -1 in the shape tuple allows NumPy to automatically calculate the number of columns needed to maintain the total number of elements.\n",
    "\n",
    "arr = np.array([1, 2, 3, 4, 5, 6, 7, 8])\n",
    "\n",
    "reshaped_arr = np.reshape(arr, (4, -1))\n",
    "reshaped_arr"
   ]
  },
  {
   "cell_type": "code",
   "execution_count": 46,
   "id": "f735cee5",
   "metadata": {},
   "outputs": [
    {
     "data": {
      "text/plain": [
       "array([1, 2, 3, 4, 5, 6])"
      ]
     },
     "execution_count": 46,
     "metadata": {},
     "output_type": "execute_result"
    }
   ],
   "source": [
    "# Exampele 3 \n",
    "# Explanation: This will reshape the 2D array [[1, 2, 3], [4, 5, 6]] into a 1D array [1, 2, 3, 4, 5, 6].\n",
    "\n",
    "arr = np.array([[1, 2, 3], [4, 5, 6]])\n",
    "\n",
    "arr = np.reshape(arr, 6)\n",
    "arr"
   ]
  },
  {
   "cell_type": "markdown",
   "id": "5b64566f",
   "metadata": {},
   "source": [
    "# function 4 std()"
   ]
  },
  {
   "cell_type": "code",
   "execution_count": 37,
   "id": "de1cd25c",
   "metadata": {},
   "outputs": [
    {
     "name": "stdout",
     "output_type": "stream",
     "text": [
      "1.4142135623730951\n"
     ]
    }
   ],
   "source": [
    "# Example 1\n",
    "# Explanation: This will calculate the standard deviation of the 1D array [1, 2, 3, 4, 5]. The standard deviation is a measure of the amount of variation or dispersion of a set of values. In this example, it computes the standard deviation of the elements in the array.\n",
    "\n",
    "import numpy as np\n",
    "\n",
    "arr = np.array([1, 2, 3, 4, 5])\n",
    "\n",
    "std = np.std(arr)\n",
    "\n",
    "print(std)"
   ]
  },
  {
   "cell_type": "code",
   "execution_count": 45,
   "id": "8de5fda1",
   "metadata": {},
   "outputs": [
    {
     "name": "stdout",
     "output_type": "stream",
     "text": [
      "[1.5 1.5 1.5]\n"
     ]
    }
   ],
   "source": [
    "# Example 2 \n",
    "# Explanation: This will calculate the standard deviation along the columns (axis=0) of the 2D array [[1, 2, 3], [4, 5, 6]]. It computes the standard deviation for each column separately and returns an array containing the standard deviation values for each column.\n",
    "\n",
    "arr = np.array([[1, 2, 3], [4, 5, 6]])\n",
    "\n",
    "std = np.std(arr, axis=0)\n",
    "\n",
    "print(std)"
   ]
  },
  {
   "cell_type": "code",
   "execution_count": 48,
   "id": "3ff4d430",
   "metadata": {},
   "outputs": [
    {
     "name": "stdout",
     "output_type": "stream",
     "text": [
      "[0.70710678 0.70710678 0.70710678]\n"
     ]
    }
   ],
   "source": [
    "# Exampale 3 \n",
    "# Explanation: This will compute the sample standard deviation along the rows (axis=1) of the 2D array [[1, 2], [3, 4], [5, 6]] with degrees of freedom (ddof) set to 1. It computes the standard deviation for each row separately, considering each row as a sample.\n",
    "\n",
    "arr = np.array([[1, 2], [3, 4], [5, 6]])\n",
    "\n",
    "std = np.std(arr, axis=1, ddof=1)\n",
    "print(std)\n"
   ]
  },
  {
   "cell_type": "markdown",
   "id": "0c56826a",
   "metadata": {},
   "source": [
    "# function 5 linspace()"
   ]
  },
  {
   "cell_type": "code",
   "execution_count": 41,
   "id": "c8673f47",
   "metadata": {},
   "outputs": [
    {
     "name": "stdout",
     "output_type": "stream",
     "text": [
      "[0.  0.2 0.4 0.6 0.8 1.  1.2 1.4 1.6 1.8]\n"
     ]
    }
   ],
   "source": [
    "# Example 1 \n",
    "# in the generated array. However, setting endpoint=False excludes the endpoint from the generated array. In this example, we generate 10 equally spaced numbers between 0 and 2, excluding the endpoint.\n",
    "\n",
    "import numpy as np\n",
    "\n",
    "arr = np.linspace(0, 2, 10, endpoint=False)\n",
    "print(arr)\n"
   ]
  },
  {
   "cell_type": "code",
   "execution_count": 43,
   "id": "7d7233f5",
   "metadata": {},
   "outputs": [
    {
     "name": "stdout",
     "output_type": "stream",
     "text": [
      "[ 1  2  4  6  8 10]\n"
     ]
    }
   ],
   "source": [
    "# Example 2\n",
    "# Explanation: By default, numpy.linspace() returns an array of floating-point numbers. However, we can specify the data type of the array using the dtype parameter. In this example, we generate an array of 6 equally spaced integers between 1 and 10.\n",
    "\n",
    "arr = np.linspace(1, 10, 6, dtype=int)\n",
    "print(arr)"
   ]
  },
  {
   "cell_type": "code",
   "execution_count": 44,
   "id": "faa54263",
   "metadata": {},
   "outputs": [
    {
     "name": "stdout",
     "output_type": "stream",
     "text": [
      "[ 0.          0.52631579  1.05263158  1.57894737  2.10526316  2.63157895\n",
      "  3.15789474  3.68421053  4.21052632  4.73684211  5.26315789  5.78947368\n",
      "  6.31578947  6.84210526  7.36842105  7.89473684  8.42105263  8.94736842\n",
      "  9.47368421 10.        ]\n"
     ]
    }
   ],
   "source": [
    "# Example 3 \n",
    "# Explanation: This example generates an array containing 20 equally spaced numbers between 0 and 10. Instead of specifying the step size, we provide the num parameter to indicate the number of points we want in the range.\n",
    "\n",
    "arr = np.linspace(0, 10, num=20)\n",
    "print(arr)"
   ]
  }
 ],
 "metadata": {
  "kernelspec": {
   "display_name": "Python 3 (ipykernel)",
   "language": "python",
   "name": "python3"
  },
  "language_info": {
   "codemirror_mode": {
    "name": "ipython",
    "version": 3
   },
   "file_extension": ".py",
   "mimetype": "text/x-python",
   "name": "python",
   "nbconvert_exporter": "python",
   "pygments_lexer": "ipython3",
   "version": "3.10.9"
  }
 },
 "nbformat": 4,
 "nbformat_minor": 5
}
